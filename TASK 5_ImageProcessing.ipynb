version https://git-lfs.github.com/spec/v1
oid sha256:63d22dc19cc1a90502a08dd181433e79f808691c1d62e31153c0494b0dab0005
size 43074043
